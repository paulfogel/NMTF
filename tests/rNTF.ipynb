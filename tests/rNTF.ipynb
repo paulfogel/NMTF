{
 "cells": [
  {
   "cell_type": "markdown",
   "metadata": {},
   "source": [
    "# Setup Test Environment"
   ]
  },
  {
   "cell_type": "code",
   "execution_count": 8,
   "metadata": {},
   "outputs": [],
   "source": [
    "# Initialize table\n",
    "\n",
    "#import package\n",
    "\n",
    "\n",
    "from nmtf import NTF\n",
    "import pandas as pd\n",
    "import numpy as np\n",
    "from json import JSONEncoder\n",
    "import json\n",
    "\n",
    "class NumpyArrayEncoder(JSONEncoder):\n",
    "    def default(self, obj):\n",
    "        if isinstance(obj, np.ndarray):\n",
    "            return obj.tolist()\n",
    "        return JSONEncoder.default(self, obj)\n",
    "\n",
    "df = pd.read_csv('./data/data_Tensor.csv')\n",
    "M0 = df.values\n",
    "nc = 5\n",
    "NBlocks = 5\n",
    "n, p = M0.shape"
   ]
  },
  {
   "cell_type": "code",
   "execution_count": 9,
   "metadata": {},
   "outputs": [],
   "source": [
    "myNTFmodel = NTF(n_components=5)"
   ]
  },
  {
   "cell_type": "code",
   "execution_count": 10,
   "metadata": {
    "tags": []
   },
   "outputs": [
    {
     "name": "stderr",
     "output_type": "stream",
     "text": [
      "Step 1 - NTF Ncomp=5: Iteration: 74; Achieved sparsity: 0; alpha: 0.4:  99%|█████████▉| 99.33333333333348/100 [00:02<00:00, 43.50it/s] /home/pcotte/Documents/venvs/nmtf/lib/python3.6/site-packages/tqdm/std.py:484: TqdmWarning: clamping frac to range [0, 1]\n",
      "  charset=Bar.ASCII if ascii is True else ascii or Bar.UTF)\n",
      "the_leverage: Comp 5: 100%|██████████| 100.0/100 [00:20<00:00,  4.85it/s]                                                                           \n"
     ]
    }
   ],
   "source": [
    "estimator = myNTFmodel.fit_transform(M0, NBlocks, sparsity=.8, n_bootstrap=10)"
   ]
  },
  {
   "cell_type": "code",
   "execution_count": 11,
   "metadata": {
    "tags": []
   },
   "outputs": [
    {
     "name": "stderr",
     "output_type": "stream",
     "text": [
      "the_leverage: Comp 5: 100%|██████████| 100.0/100 [00:00<00:00, 5991.43it/s]            \n"
     ]
    }
   ],
   "source": [
    "estimator = myNTFmodel.predict(estimator)"
   ]
  },
  {
   "cell_type": "code",
   "execution_count": 12,
   "metadata": {
    "pycharm": {
     "name": "#%%\n"
    }
   },
   "outputs": [
    {
     "data": {
      "text/plain": "array([[0.41776582, 0.39108237, 0.35558252, 0.4002428 , 0.45937599],\n       [0.11701908, 0.33998508, 0.28992822, 0.44443653, 0.29805604],\n       [0.42754698, 0.37073485, 0.41844286, 0.39370443, 0.44458028],\n       [0.16582502, 0.38935847, 0.2819073 , 0.4342563 , 0.37689712],\n       [0.48309652, 0.37714109, 0.40585885, 0.31063237, 0.37985366],\n       [0.08984303, 0.29685086, 0.30931011, 0.39370972, 0.25821786],\n       [0.6000249 , 0.46050466, 0.52396793, 0.21725641, 0.38661087]])"
     },
     "execution_count": 12,
     "metadata": {},
     "output_type": "execute_result"
    }
   ],
   "source": [
    "estimator['w']"
   ]
  },
  {
   "cell_type": "code",
   "execution_count": 13,
   "outputs": [],
   "source": [
    "with open(\"result.json\", \"w\") as write_file:\n",
    "    json.dump(estimator, write_file, cls=NumpyArrayEncoder)"
   ],
   "metadata": {
    "collapsed": false,
    "pycharm": {
     "name": "#%%\n"
    }
   }
  }
 ],
 "metadata": {
  "kernelspec": {
   "display_name": "Python 3",
   "language": "python",
   "name": "python3"
  },
  "language_info": {
   "codemirror_mode": {
    "name": "ipython",
    "version": 3
   },
   "file_extension": ".py",
   "mimetype": "text/x-python",
   "name": "python",
   "nbconvert_exporter": "python",
   "pygments_lexer": "ipython3",
   "version": "3.7.3"
  }
 },
 "nbformat": 4,
 "nbformat_minor": 4
}